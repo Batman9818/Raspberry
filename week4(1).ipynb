{
 "cells": [
  {
   "cell_type": "code",
   "execution_count": 18,
   "id": "74030ce8",
   "metadata": {},
   "outputs": [
    {
     "name": "stdout",
     "output_type": "stream",
     "text": [
      "{'a': 1, 'd': 4, 'b': 2, 'c': 3}\n",
      "Ascending order:  {'a': 1, 'b': 2, 'c': 3, 'd': 4}\n",
      "Decending order:  {'d': 4, 'c': 3, 'b': 2, 'a': 1}\n"
     ]
    }
   ],
   "source": [
    "#sort (ascending and descending) a dictionary by value\n",
    "d={'a':1,'d':4,'b':2,'c':3}\n",
    "dl=list(d.items())\n",
    "print(dict(dl))\n",
    "dl.sort()\n",
    "print(\"Ascending order: \",dict(dl))\n",
    "dl.sort(reverse=True)\n",
    "print(\"Decending order: \",dict(dl))\n"
   ]
  },
  {
   "cell_type": "code",
   "execution_count": 22,
   "id": "9a73bba5",
   "metadata": {},
   "outputs": [
    {
     "name": "stdout",
     "output_type": "stream",
     "text": [
      "Day\t\t Temperature\n",
      "August  10 \t 57\n",
      "August  22 \t 79\n",
      "August  13 \t 90\n",
      "August  11 \t 34\n",
      "August  2 \t 78\n",
      "August  14 \t 39\n",
      "August  28 \t 62\n",
      "August  25 \t 74\n",
      "August  23 \t 73\n",
      "August  27 \t 48\n",
      "August  19 \t 30\n",
      "It exists\n"
     ]
    }
   ],
   "source": [
    "import random\n",
    "tempProf = {}\n",
    "for i in range(11):    \n",
    "    x = random.randrange(1,31)    \n",
    "    y = random.randrange(30,100)    \n",
    "    tempProf[x]=y\n",
    "print(\"Day\\t\\t Temperature\")\n",
    "for day,temp in tempProf.items():    \n",
    "    print(\"August \",day,\"\\t\",temp)\n",
    "flag = 11 in tempProf\n",
    "if flag == False:    \n",
    "    print(\"Does not exist\")\n",
    "else:    \n",
    "    print('It exists')"
   ]
  },
  {
   "cell_type": "code",
   "execution_count": 28,
   "id": "e5da1549",
   "metadata": {},
   "outputs": [
    {
     "name": "stdout",
     "output_type": "stream",
     "text": [
      "Day\t\t Temperature\n",
      "August  24 \t 90\n",
      "August  7 \t 85\n",
      "August  11 \t 80\n",
      "August  4 \t 70\n",
      "August  30 \t 30\n",
      "August  19 \t 46\n",
      "August  26 \t 63\n",
      "August  25 \t 63\n",
      "August  18 \t 43\n",
      "August  16 \t 54\n",
      "August  5 \t 93\n",
      "count of temperature 30:  1\n",
      "count of temperature 40:  0\n"
     ]
    }
   ],
   "source": [
    "import random\n",
    "tempProf = {}\n",
    "c1=0\n",
    "c2=0\n",
    "for i in range(11):    \n",
    "    x = random.randrange(1,31)    \n",
    "    y = random.randrange(30,100)    \n",
    "    tempProf[x]=y\n",
    "print(\"Day\\t\\t Temperature\")\n",
    "for day,temp in tempProf.items():    \n",
    "    print(\"August \",day,\"\\t\",temp)\n",
    "for a in tempProf:\n",
    "    if tempProf[a]==30:\n",
    "        c1+=1\n",
    "    if tempProf[a]==40:\n",
    "        c2+=1\n",
    "print(\"count of temperature 30: \",c1)\n",
    "print(\"count of temperature 40: \",c2)"
   ]
  },
  {
   "cell_type": "code",
   "execution_count": 32,
   "id": "e973303d",
   "metadata": {},
   "outputs": [
    {
     "name": "stdout",
     "output_type": "stream",
     "text": [
      "Day\t\t Temperature\n",
      "July 2  \t 44\n",
      "July 18  \t 79\n",
      "July 9  \t 71\n",
      "July 23  \t 89\n",
      "July 28  \t 77\n",
      "July 3  \t 87\n",
      "July 8  \t 67\n",
      "July 25  \t 79\n",
      "July 11  \t 54\n",
      "August 30  \t 80\n",
      "August 26  \t 34\n",
      "August 15  \t 49\n",
      "August 31  \t 93\n",
      "August 17  \t 72\n",
      "August 11  \t 87\n",
      "August 10  \t 72\n",
      "August 27  \t 57\n",
      "August 21  \t 53\n",
      "August 8  \t 60\n"
     ]
    }
   ],
   "source": [
    "import random\n",
    "from collections import defaultdict\n",
    "tempProf_july = {}\n",
    "tempProf_aug = {}\n",
    "july_aug_temp = defaultdict(list)\n",
    "for i in range(0,10):    \n",
    "    x = random.randint(1,31)\n",
    "    y = random.randint(30,100)\n",
    "    s1=\"July \"+str(x)    \n",
    "    tempProf_july[s1]=y    \n",
    "    m = random.randint(1,31)    \n",
    "    n = random.randint(30,100)    \n",
    "    s2=\"August \"+str(m)    \n",
    "    tempProf_aug[s2]=n\n",
    "for tempProf in (tempProf_july, tempProf_aug):    \n",
    "    for key, value in tempProf.items():        \n",
    "        july_aug_temp[key].append(value)\n",
    "print(\"Day\\t\\t Temperature\")\n",
    "for day,temp in july_aug_temp.items():   \n",
    "    print(day,\" \\t\",temp[0])"
   ]
  },
  {
   "cell_type": "code",
   "execution_count": 34,
   "id": "8eb44710",
   "metadata": {},
   "outputs": [
    {
     "name": "stdout",
     "output_type": "stream",
     "text": [
      "Day\t\t Temperature\n",
      "July 11  \t 30\n",
      "July 16  \t 65\n",
      "July 12  \t 58\n",
      "July 14  \t 44\n",
      "July 5  \t 87\n",
      "July 20  \t 52\n",
      "July 8  \t 98\n",
      "July 22  \t 32\n",
      "July 3  \t 95\n",
      "July 13  \t 64\n",
      "August 5  \t 50\n",
      "August 20  \t 51\n",
      "August 16  \t 92\n",
      "August 12  \t 90\n",
      "August 8  \t 99\n",
      "August 28  \t 54\n",
      "August 9  \t 99\n",
      "August 31  \t 97\n",
      "August 26  \t 99\n",
      "The average temperature of july and august is 71.37\n"
     ]
    }
   ],
   "source": [
    "import random\n",
    "from collections import defaultdict\n",
    "tempProf_july = {}\n",
    "tempProf_aug = {}\n",
    "july_aug_temp = defaultdict(list)\n",
    "sumTemp = 0\n",
    "count = 0\n",
    "for i in range(0,10):   \n",
    "    x = random.randint(1,31)    \n",
    "    y = random.randint(30,100)    \n",
    "    s1=\"July \"+str(x)    \n",
    "    tempProf_july[s1]=y    \n",
    "    m = random.randint(1,31)    \n",
    "    n = random.randint(30,100)    \n",
    "    s2=\"August \"+str(m)    \n",
    "    tempProf_aug[s2]=n\n",
    "for tempProf in (tempProf_july, tempProf_aug): \n",
    "    for key, value in tempProf.items():       \n",
    "        july_aug_temp[key].append(value)\n",
    "print(\"Day\\t\\t Temperature\")\n",
    "for day,temp in july_aug_temp.items():\n",
    "    print(day,\" \\t\",temp[0])\n",
    "for days in july_aug_temp:\n",
    "    sumTemp+=july_aug_temp[days][0]    \n",
    "    count+=1\n",
    "    avg=float(sumTemp)/count\n",
    "print(\"The average temperature of july and august is %.2f\"%avg)"
   ]
  },
  {
   "cell_type": "code",
   "execution_count": 35,
   "id": "2d2abeb8",
   "metadata": {},
   "outputs": [
    {
     "name": "stdout",
     "output_type": "stream",
     "text": [
      "Enter the product name: milk\n",
      "Enter product price: 30\n",
      "Do you want to enter more product names? (y/n): y\n",
      "Enter the product name: egg\n",
      "Enter product price: 40\n",
      "Do you want to enter more product names? (y/n): n\n",
      "Enter the product name to search: egg\n",
      "Price: 40.0\n",
      "Do you want to know price of more products? (y/n): h\n"
     ]
    }
   ],
   "source": [
    "d = {}\n",
    "ans = \"y\"\n",
    "while ans == \"y\" or ans == \"Y\" :\n",
    "    p_name = input(\"Enter the product name: \")\n",
    "    p_price = float(input(\"Enter product price: \"))\n",
    "    d[p_name] = p_price\n",
    "    ans = input(\"Do you want to enter more product names? (y/n): \")\n",
    "\n",
    "ans = \"y\"\n",
    "while ans == \"y\" or ans == \"Y\" : \n",
    "    p_name = input(\"Enter the product name to search: \")\n",
    "    print(\"Price:\", d.get(p_name, \"Product not found\"))\n",
    "    ans = input(\"Do you want to know price of more products? (y/n): \")"
   ]
  },
  {
   "cell_type": "code",
   "execution_count": 36,
   "id": "7b768436",
   "metadata": {},
   "outputs": [
    {
     "name": "stdout",
     "output_type": "stream",
     "text": [
      "Maximum Value:  5874\n",
      "Minimum Value:  500\n"
     ]
    }
   ],
   "source": [
    "my_dict = {'x':500, 'y':5874, 'z': 560}\n",
    "key_max = max(my_dict.keys(), key=(lambda k: my_dict[k]))\n",
    "key_min = min(my_dict.keys(), key=(lambda k: my_dict[k]))\n",
    "print('Maximum Value: ',my_dict[key_max])\n",
    "print('Minimum Value: ',my_dict[key_min])"
   ]
  }
 ],
 "metadata": {
  "kernelspec": {
   "display_name": "Python 3 (ipykernel)",
   "language": "python",
   "name": "python3"
  },
  "language_info": {
   "codemirror_mode": {
    "name": "ipython",
    "version": 3
   },
   "file_extension": ".py",
   "mimetype": "text/x-python",
   "name": "python",
   "nbconvert_exporter": "python",
   "pygments_lexer": "ipython3",
   "version": "3.9.7"
  }
 },
 "nbformat": 4,
 "nbformat_minor": 5
}
