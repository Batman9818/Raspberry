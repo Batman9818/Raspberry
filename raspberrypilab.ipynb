{
  "nbformat": 4,
  "nbformat_minor": 0,
  "metadata": {
    "colab": {
      "provenance": []
    },
    "kernelspec": {
      "name": "python3",
      "display_name": "Python 3"
    },
    "language_info": {
      "name": "python"
    }
  },
  "cells": [
    {
      "cell_type": "markdown",
      "source": [
        "# **RA2111003010298 - Ganesh K**"
      ],
      "metadata": {
        "id": "FInSWdZi50YY"
      }
    },
    {
      "cell_type": "markdown",
      "source": [
        "## 1) Write a  Python program to perform arithmetic operations on two integers."
      ],
      "metadata": {
        "id": "N6bW9G1H1Biu"
      }
    },
    {
      "cell_type": "code",
      "execution_count": null,
      "metadata": {
        "colab": {
          "base_uri": "https://localhost:8080/"
        },
        "id": "Modd6OLWyYao",
        "outputId": "ead4d239-a031-48a4-dc10-7e77fae5f595"
      },
      "outputs": [
        {
          "output_type": "stream",
          "name": "stdout",
          "text": [
            "Enter the first number 4\n",
            "Enter the second number 5\n",
            "Enter the operation you want to perform:\n",
            "1)Addition\n",
            "2)subtraction\n",
            "3)multiplication\n",
            "4)division\n",
            "2\n",
            "The Result is: \n",
            "-1\n"
          ]
        }
      ],
      "source": [
        "#RA2111003010298\n",
        "\n",
        "n1=int(input(\"Enter the first number \"))\n",
        "n2=int(input(\"Enter the second number \"))\n",
        "n=int(input(\"Enter the operation you want to perform:\\n1)Addition\\n2)subtraction\\n3)multiplication\\n4)division\\n\"))\n",
        "print(\"The Result is: \")\n",
        "if n==1:\n",
        "  print(n1+n2)\n",
        "elif n==2:\n",
        "  print(n1-n2)\n",
        "elif n==3:\n",
        "  print(n1*n2)\n",
        "elif n==4:\n",
        "  print(\"The quiotient is \" ,n1//n2 ,\"and the remainder is \" ,n1%n2)"
      ]
    },
    {
      "cell_type": "markdown",
      "source": [
        "## 2) Write a Python Program to find area of a triangle."
      ],
      "metadata": {
        "id": "pOvONonV2xYc"
      }
    },
    {
      "cell_type": "code",
      "source": [
        "#RA2111003010298\n",
        "\n",
        "from math import sqrt\n",
        "s1=int(input(\"Enter the side 1 length \"))\n",
        "s2=int(input(\"Enter the side 2 length \"))\n",
        "s3=int(input(\"Enter the side 3 length \"))\n",
        "s=(s1+s2+s3)/2\n",
        "area=sqrt(s*(s-s1)*(s-s2)*(s-s3))\n",
        "print(\"The area of triangle is\",area)"
      ],
      "metadata": {
        "colab": {
          "base_uri": "https://localhost:8080/"
        },
        "id": "PDxvV-AI2UhY",
        "outputId": "6d30900a-227e-4c06-a449-dd816ceb6af4"
      },
      "execution_count": null,
      "outputs": [
        {
          "output_type": "stream",
          "name": "stdout",
          "text": [
            "Enter the side 1 length 3\n",
            "Enter the side 2 length 4\n",
            "Enter the side 3 length 5\n",
            "The area of triangle is 6.0\n"
          ]
        }
      ]
    },
    {
      "cell_type": "markdown",
      "source": [
        "## 3)Write a Python code to remove 6 characters from start of given string“Embedded Systems”\n"
      ],
      "metadata": {
        "id": "7h0lzNZr5oBZ"
      }
    },
    {
      "cell_type": "code",
      "source": [
        "#RA2111003010298\n",
        "\n",
        "s=\"Embedded Systems\"\n",
        "sn=s[6:]\n",
        "sn"
      ],
      "metadata": {
        "colab": {
          "base_uri": "https://localhost:8080/",
          "height": 35
        },
        "id": "aT77qmz-4aXT",
        "outputId": "7783b2b2-38d1-4820-fe7a-c61d3d8aa00a"
      },
      "execution_count": null,
      "outputs": [
        {
          "output_type": "execute_result",
          "data": {
            "text/plain": [
              "'ed Systems'"
            ],
            "application/vnd.google.colaboratory.intrinsic+json": {
              "type": "string"
            }
          },
          "metadata": {},
          "execution_count": 8
        }
      ]
    },
    {
      "cell_type": "markdown",
      "source": [
        "## **Write the Python code to find length of String “Computer Science”. Replace science with Electronics.**"
      ],
      "metadata": {
        "id": "RjphMjUP6YHZ"
      }
    },
    {
      "cell_type": "code",
      "source": [
        "#RA2111003010298\n",
        "\n",
        "s=\"Computer Science\"\n",
        "length=len(s)\n",
        "newstr=s[:9]+\"Electronics\"\n",
        "newstr"
      ],
      "metadata": {
        "id": "3nrvwfa96UGy",
        "colab": {
          "base_uri": "https://localhost:8080/",
          "height": 36
        },
        "outputId": "cb17af2f-b260-40d5-e2c6-73f49fd76156"
      },
      "execution_count": null,
      "outputs": [
        {
          "output_type": "execute_result",
          "data": {
            "text/plain": [
              "'Computer Electronics'"
            ],
            "application/vnd.google.colaboratory.intrinsic+json": {
              "type": "string"
            }
          },
          "metadata": {},
          "execution_count": 2
        }
      ]
    },
    {
      "cell_type": "markdown",
      "source": [
        "## **Write the Python program to reverse a string from user input**"
      ],
      "metadata": {
        "id": "aZcezsdw7cw5"
      }
    },
    {
      "cell_type": "code",
      "source": [
        "#RA2111003010298\n",
        "\n",
        "s=input(\"enter a string input\")\n",
        "reversestring=s[::-1]\n",
        "reversestring"
      ],
      "metadata": {
        "colab": {
          "base_uri": "https://localhost:8080/",
          "height": 53
        },
        "id": "Hl9iym0Z7h5h",
        "outputId": "e5c79fcc-7679-445e-ff8c-85f76e93b176"
      },
      "execution_count": null,
      "outputs": [
        {
          "name": "stdout",
          "output_type": "stream",
          "text": [
            "enter a string inputGANESH\n"
          ]
        },
        {
          "output_type": "execute_result",
          "data": {
            "text/plain": [
              "'HSENAG'"
            ],
            "application/vnd.google.colaboratory.intrinsic+json": {
              "type": "string"
            }
          },
          "metadata": {},
          "execution_count": 9
        }
      ]
    },
    {
      "cell_type": "markdown",
      "source": [
        "## **Write Python program to find area of a circle**"
      ],
      "metadata": {
        "id": "vaUav6P77hG5"
      }
    },
    {
      "cell_type": "code",
      "source": [
        "#RA2111003010298\n",
        "\n",
        "from math import pi\n",
        "radius=float(input(\"enter the radius\"))\n",
        "area=pi*(radius**2)\n",
        "area"
      ],
      "metadata": {
        "colab": {
          "base_uri": "https://localhost:8080/"
        },
        "id": "i5sA7n-y8fFx",
        "outputId": "db176b33-9acd-48dd-c789-fb918fd62fb3"
      },
      "execution_count": null,
      "outputs": [
        {
          "name": "stdout",
          "output_type": "stream",
          "text": [
            "enter the radius7\n"
          ]
        },
        {
          "output_type": "execute_result",
          "data": {
            "text/plain": [
              "153.93804002589985"
            ]
          },
          "metadata": {},
          "execution_count": 12
        }
      ]
    },
    {
      "cell_type": "markdown",
      "source": [
        "What is the output?\n",
        ">>> str1 = 'Hello '\n",
        ">>>str2 = ' World!'\n",
        "print (str1 + str2)\n"
      ],
      "metadata": {
        "id": "Nhm6g1oD87F6"
      }
    },
    {
      "cell_type": "code",
      "source": [
        "#RA2111003010298\n",
        "\n",
        "str1=\"Hello\"\n",
        "str2=\"World\"\n",
        "print(str1+str2)"
      ],
      "metadata": {
        "colab": {
          "base_uri": "https://localhost:8080/"
        },
        "id": "2jGq-6mD8wrR",
        "outputId": "0762849c-8e7b-4980-f12d-187068a43739"
      },
      "execution_count": null,
      "outputs": [
        {
          "output_type": "stream",
          "name": "stdout",
          "text": [
            "HelloWorld\n"
          ]
        }
      ]
    },
    {
      "cell_type": "markdown",
      "source": [
        "# **WEEK 2**"
      ],
      "metadata": {
        "id": "Cavmt4Qb9h75"
      }
    },
    {
      "cell_type": "markdown",
      "source": [
        "## **Write a function that returns the maximum of two numbers. (Use if loop)**"
      ],
      "metadata": {
        "id": "yJ2HYmN_-m-5"
      }
    },
    {
      "cell_type": "code",
      "source": [
        "#RA2111003010298\n",
        "\n",
        "n1=int(input(\"enter the first number \"))\n",
        "n2=int(input(\"Enter the second number \"))\n",
        "if n1>n2:\n",
        "  print(n1,\"is greater than\", n2)\n",
        "else:\n",
        "  print(n2,\"is greater than\", n1)"
      ],
      "metadata": {
        "colab": {
          "base_uri": "https://localhost:8080/"
        },
        "id": "RqiIacxx9U5S",
        "outputId": "f62efdb8-f587-43cb-f10c-9a3eb43aefa0"
      },
      "execution_count": null,
      "outputs": [
        {
          "output_type": "stream",
          "name": "stdout",
          "text": [
            "enter the first number 4\n",
            "Enter the second number 2\n",
            "4 is greater than 2\n"
          ]
        }
      ]
    },
    {
      "cell_type": "markdown",
      "source": [
        "Write a function called divisible that takes a number. ( Use if loop)\n",
        "* If the number is divisible by 3, it should return “Three”.\n",
        "* If it is divisible by 5, it should return “Five”.\n",
        "* If it is divisible by both 3 and 5, it should return “Three and Five”\n",
        "Otherwise, it should return the same number."
      ],
      "metadata": {
        "id": "DPgM3rwC-xCZ"
      }
    },
    {
      "cell_type": "code",
      "source": [
        "#RA2111003010298\n",
        "\n",
        "def divisible(n):\n",
        "  if n%15==0:\n",
        "    print(\"THREE AND FIVE\")\n",
        "  elif n%5==0:\n",
        "    print(\"FIVE\")\n",
        "  elif n%3==0:\n",
        "    print(\"THREE\")\n",
        "n=int(input(\"enter the number\"))\n",
        "divisible(n)"
      ],
      "metadata": {
        "colab": {
          "base_uri": "https://localhost:8080/"
        },
        "id": "1QhNhZL1-kLh",
        "outputId": "a14a60a4-bb1c-49ae-caac-50f5dcc55e6d"
      },
      "execution_count": null,
      "outputs": [
        {
          "output_type": "stream",
          "name": "stdout",
          "text": [
            "enter the number15\n",
            "THREE AND FIVE\n"
          ]
        }
      ]
    },
    {
      "cell_type": "markdown",
      "source": [
        "Write a function for checking the speed of drivers. This function should have one\n",
        "parameter: speed.\n",
        "* a) If speed is less than 70, it should print “Ok”.\n",
        "* b) Otherwise, for every 5km above the speed limit (70), it should give the driver\n",
        "one demerit point and print the total number of demerit points. For example,\n",
        "if the speed is 80, it should print:“Points:2”.\n",
        "* c) If the driver gets more than 12 points, the function should print: “License\n",
        "suspended”"
      ],
      "metadata": {
        "id": "T6kAOdqAAUbn"
      }
    },
    {
      "cell_type": "code",
      "source": [
        "#RA2111003010298\n",
        "\n",
        "def checking(speed):\n",
        "  if speed<=70:\n",
        "    print(\"Ok\")\n",
        "  elif speed >70:\n",
        "    d=(speed-70)//5\n",
        "    if d<=12:\n",
        "      print(\"points:\", points)\n",
        "    elif d>12:\n",
        "      print(\"License Suspended\")\n",
        "speed=int(input(\"enter the speed\"))\n",
        "checking(speed)"
      ],
      "metadata": {
        "colab": {
          "base_uri": "https://localhost:8080/"
        },
        "id": "DFJ9V2d7_38w",
        "outputId": "2af6ca72-0a0f-4722-f762-05682437f0ce"
      },
      "execution_count": null,
      "outputs": [
        {
          "output_type": "stream",
          "name": "stdout",
          "text": [
            "enter the speed150\n",
            "License Suspended\n"
          ]
        }
      ]
    },
    {
      "cell_type": "markdown",
      "source": [
        "Write a function(Use for loop) called showNumbers that takes a parameter\n",
        "called limit. It should print all the numbers between 0 and limit with a label to\n",
        "identify the even and odd numbers. For example, if the limit is 3, it should print:\n",
        "* a) 0 EVEN\n",
        "* b) 1 ODD\n",
        "* c) 2 EVEN\n",
        "* d) 3 ODD"
      ],
      "metadata": {
        "id": "aCH6GB7aCyyH"
      }
    },
    {
      "cell_type": "code",
      "source": [
        "#RA2111003010298\n",
        "\n",
        "def shownumbers():\n",
        "  for i in range(0,n+1):\n",
        "    if i%2==0:\n",
        "      print(f\"{i} EVEN\")\n",
        "    else:\n",
        "      print(f\"{i} ODD\")\n",
        "n=int(input(\"Enter your limit : \"))\n",
        "shownumbers()"
      ],
      "metadata": {
        "id": "SxZM6eu9CPTf",
        "colab": {
          "base_uri": "https://localhost:8080/"
        },
        "outputId": "386b731a-a3cd-4cd5-8c4c-d5ab402a1912"
      },
      "execution_count": null,
      "outputs": [
        {
          "output_type": "stream",
          "name": "stdout",
          "text": [
            "Enter your limit : 4\n",
            "0 EVEN\n",
            "1 ODD\n",
            "2 EVEN\n",
            "3 ODD\n",
            "4 EVEN\n"
          ]
        }
      ]
    },
    {
      "cell_type": "markdown",
      "source": [
        "Write a program using while loop to check the number n is less than seven. If it isless than seven, print n is less than 7 and add 1 to n. If it is greater than 7,  print n is\n",
        "not less than 7."
      ],
      "metadata": {
        "id": "pLy8rS8jC7sP"
      }
    },
    {
      "cell_type": "code",
      "source": [
        "#RA2111003010298\n",
        "\n",
        "n=int(input(\"Enter your number : \"))\n",
        "if n<7:\n",
        "      print(f\"{n} is less than 7\")\n",
        "      n+=1\n",
        "      print(f\"The new value of n is {n}\")\n",
        "else:\n",
        "      print(\"n is not less than 7\")"
      ],
      "metadata": {
        "id": "66IdmjtODAPv",
        "colab": {
          "base_uri": "https://localhost:8080/"
        },
        "outputId": "60edbcc0-029f-4bec-9942-86919e07563f"
      },
      "execution_count": null,
      "outputs": [
        {
          "output_type": "stream",
          "name": "stdout",
          "text": [
            "Enter your number : 45\n",
            "n is not less than 7\n"
          ]
        }
      ]
    },
    {
      "cell_type": "markdown",
      "source": [
        "#**POST LAB**"
      ],
      "metadata": {
        "id": "l7Od4HYgqAsy"
      }
    },
    {
      "cell_type": "code",
      "source": [
        "#RA2111003010298\n",
        "\n",
        "def is_prime(number):\n",
        "    if number < 2:\n",
        "        return False\n",
        "    for i in range(2, int(number ** 0.5) + 1):\n",
        "        if number % i == 0:\n",
        "            return False\n",
        "    return True\n",
        "def print_primes(limit):\n",
        "    if limit < 2:\n",
        "        print(\"No prime numbers in the given range.\")\n",
        "        return\n",
        "    primes = []\n",
        "    for num in range(2, limit + 1):\n",
        "        if is_prime(num):\n",
        "            primes.append(num)\n",
        "    print(\"Prime numbers between 0 and\", limit, \"are:\", primes)\n",
        "limit = 50\n",
        "print_primes(limit)"
      ],
      "metadata": {
        "colab": {
          "base_uri": "https://localhost:8080/"
        },
        "id": "W88YHRIVqINa",
        "outputId": "23bd5edd-1932-40d4-caf5-570603486cb9"
      },
      "execution_count": null,
      "outputs": [
        {
          "output_type": "stream",
          "name": "stdout",
          "text": [
            "Prime numbers between 0 and 50 are: [2, 3, 5, 7, 11, 13, 17, 19, 23, 29, 31, 37, 41, 43, 47]\n"
          ]
        }
      ]
    },
    {
      "cell_type": "code",
      "source": [
        "#RA2111003010298\n",
        "\n",
        "number = int(input(\"enter the number \"))\n",
        "result = 1\n",
        "for i in range(1, number + 1):\n",
        "    result *= i\n",
        "print(f\"The factorial of {number} is: {result}\")"
      ],
      "metadata": {
        "colab": {
          "base_uri": "https://localhost:8080/"
        },
        "id": "O25cJ5JMq8my",
        "outputId": "bc66737a-f252-4cff-a11c-b77370ca4266"
      },
      "execution_count": null,
      "outputs": [
        {
          "output_type": "stream",
          "name": "stdout",
          "text": [
            "enter the number 5\n",
            "The factorial of 5 is: 120\n"
          ]
        }
      ]
    },
    {
      "cell_type": "markdown",
      "source": [
        "#**WEEK 3**"
      ],
      "metadata": {
        "id": "or2d81AHq9KR"
      }
    },
    {
      "cell_type": "markdown",
      "source": [
        "### Write a python program to interchange first and last elements in a list."
      ],
      "metadata": {
        "id": "wilMC1_MsNkC"
      }
    },
    {
      "cell_type": "code",
      "source": [
        "#RA2111003010298\n",
        "\n",
        "l = input(\"Enter a list of elements separated by spaces: \").split()\n",
        "l = [int(element) for element in l]\n",
        "if len(l) >= 2:\n",
        "    l[0], l[-1] = l[-1], l[0]\n",
        "    print(\"Modified List:\", l)\n",
        "else:\n",
        "    print(\"List should have at least two elements.\")"
      ],
      "metadata": {
        "colab": {
          "base_uri": "https://localhost:8080/"
        },
        "id": "rrXwlk-5rC8J",
        "outputId": "b9fe75b9-41de-446e-d08f-e500900cca38"
      },
      "execution_count": null,
      "outputs": [
        {
          "output_type": "stream",
          "name": "stdout",
          "text": [
            "Enter a list of elements separated by spaces: 1 2 3 4 5\n",
            "Modified List: [5, 2, 3, 4, 1]\n"
          ]
        }
      ]
    },
    {
      "cell_type": "markdown",
      "source": [
        "### Write a Python program to find N largest and smallest elements from the list"
      ],
      "metadata": {
        "id": "prcovESJsIpi"
      }
    },
    {
      "cell_type": "code",
      "source": [
        "#RA2111003010298\n",
        "\n",
        "l = [10, 2, 30, 4, 50, 6, 70, 8, 90]\n",
        "N = int(input(\"enter the value of N\"))\n",
        "pl = list(set(l))\n",
        "sortl= sorted(pl)\n",
        "sl = sortl[:N]\n",
        "ll = sortl[-N:]\n",
        "print(f\"{N} largest elements: {ll}\")\n",
        "print(f\"{N} smallest elements: {sl}\")"
      ],
      "metadata": {
        "colab": {
          "base_uri": "https://localhost:8080/"
        },
        "id": "GqWcL5LprUHP",
        "outputId": "34680baa-4cec-44b6-d8af-da97ebdf72a0"
      },
      "execution_count": null,
      "outputs": [
        {
          "output_type": "stream",
          "name": "stdout",
          "text": [
            "enter the value of N3\n",
            "3 largest elements: [50, 70, 90]\n",
            "3 smallest elements: [2, 4, 6]\n"
          ]
        }
      ]
    },
    {
      "cell_type": "markdown",
      "source": [
        "### Write a python program to find the cumulative sum of elements in a list dont write it in function"
      ],
      "metadata": {
        "id": "slr-IpektWdo"
      }
    },
    {
      "cell_type": "code",
      "source": [
        "#RA2111003010298\n",
        "\n",
        "l = [1, 2, 3, 4, 5]\n",
        "sum = 0\n",
        "sum_list = []\n",
        "for num in l:\n",
        "    sum += num\n",
        "    sum_list.append(sum)\n",
        "print(\"Original List:\", l)\n",
        "print(\"Cumulative Sum List:\", sum_list)\n"
      ],
      "metadata": {
        "colab": {
          "base_uri": "https://localhost:8080/"
        },
        "id": "D1M28SfdtU2B",
        "outputId": "dfc2b06a-4999-4220-acc7-8b26a683351c"
      },
      "execution_count": null,
      "outputs": [
        {
          "output_type": "stream",
          "name": "stdout",
          "text": [
            "Original List: [5, 2, 3, 4, 1]\n",
            "Cumulative Sum List: [5, 7, 10, 14, 15]\n"
          ]
        }
      ]
    },
    {
      "cell_type": "markdown",
      "source": [
        "### Write a python program to find positive numbers from a list."
      ],
      "metadata": {
        "id": "VGmbK6CPtv4N"
      }
    },
    {
      "cell_type": "code",
      "source": [
        "#RA2111003010298\n",
        "\n",
        "l = [-1, 2, -3, 4, -5, 6, -7, 8]\n",
        "pnum = []\n",
        "for num in l:\n",
        "    if num > 0:\n",
        "        pnum.append(num)\n",
        "print(\"Original List:\", l)\n",
        "print(\"Positive Numbers:\", pnum)"
      ],
      "metadata": {
        "colab": {
          "base_uri": "https://localhost:8080/"
        },
        "id": "XVEPyQlbtOff",
        "outputId": "afda0f70-8af7-4bc8-a4ae-da9e7d6f1fd3"
      },
      "execution_count": null,
      "outputs": [
        {
          "output_type": "stream",
          "name": "stdout",
          "text": [
            "Original List: [-1, 2, -3, 4, -5, 6, -7, 8]\n",
            "Positive Numbers: [2, 4, 6, 8]\n"
          ]
        }
      ]
    },
    {
      "cell_type": "markdown",
      "source": [
        "### Write a Python program to generate and print a list of first and last 5 elements where the values are square of numbers between 1 and 30 (both included)."
      ],
      "metadata": {
        "id": "Gzx0UWOhtwad"
      }
    },
    {
      "cell_type": "code",
      "source": [
        "#RA2111003010298\n",
        "\n",
        "s_list = [i ** 2 for i in range(1, 31)]\n",
        "print(\"First 5 elements:\", s_list[:5])\n",
        "print(\"Last 5 elements:\", s_list[-5:])"
      ],
      "metadata": {
        "colab": {
          "base_uri": "https://localhost:8080/"
        },
        "id": "KzFS-KWmtxGl",
        "outputId": "202838ce-780c-4d1a-df10-4eac5f4ff968"
      },
      "execution_count": null,
      "outputs": [
        {
          "output_type": "stream",
          "name": "stdout",
          "text": [
            "First 5 elements: [1, 4, 9, 16, 25]\n",
            "Last 5 elements: [676, 729, 784, 841, 900]\n"
          ]
        }
      ]
    },
    {
      "cell_type": "markdown",
      "source": [
        "# **POST LAB**"
      ],
      "metadata": {
        "id": "riDe_aTUvm_L"
      }
    },
    {
      "cell_type": "markdown",
      "source": [
        "### Write a Python | Program to create two lists with EVEN numbers and ODD numbers from a list."
      ],
      "metadata": {
        "id": "YvGymuocwAri"
      }
    },
    {
      "cell_type": "code",
      "source": [
        "#RA2111003010298\n",
        "\n",
        "l = [1, 2, 3, 4, 5, 6, 7, 8, 9, 10]\n",
        "evenlist = []\n",
        "oddlist = []\n",
        "for num in l:\n",
        "    if num % 2 == 0:\n",
        "        evenlist.append(num)\n",
        "    else:\n",
        "        oddlist.append(num)\n",
        "print(\"Original List:\", l)\n",
        "print(\"Even Numbers:\", evenlist)\n",
        "print(\"Odd Numbers:\", oddlist)"
      ],
      "metadata": {
        "colab": {
          "base_uri": "https://localhost:8080/"
        },
        "id": "GWoqThATunEQ",
        "outputId": "764a3847-f3b2-46e7-dc98-dac1038091da"
      },
      "execution_count": null,
      "outputs": [
        {
          "output_type": "stream",
          "name": "stdout",
          "text": [
            "Original List: [1, 2, 3, 4, 5, 6, 7, 8, 9, 10]\n",
            "Even Numbers: [2, 4, 6, 8, 10]\n",
            "Odd Numbers: [1, 3, 5, 7, 9]\n"
          ]
        }
      ]
    },
    {
      "cell_type": "markdown",
      "source": [
        "### Write a Python program to multiply all numbers of a list"
      ],
      "metadata": {
        "id": "1DfNJ86NwJ0A"
      }
    },
    {
      "cell_type": "code",
      "source": [
        "#RA2111003010298\n",
        "\n",
        "l = [1, 2, 3, 4, 5]\n",
        "result = 1\n",
        "for num in l:\n",
        "    result *= num\n",
        "print(\"Original List:\", l)\n",
        "print(\"Result of Multiplication:\", result)"
      ],
      "metadata": {
        "colab": {
          "base_uri": "https://localhost:8080/"
        },
        "id": "EntQgIiwwIoN",
        "outputId": "c76e63c5-f3c1-4227-ee7a-64a7cae6ad4f"
      },
      "execution_count": null,
      "outputs": [
        {
          "output_type": "stream",
          "name": "stdout",
          "text": [
            "Original List: [1, 2, 3, 4, 5]\n",
            "Result of Multiplication: 120\n"
          ]
        }
      ]
    },
    {
      "cell_type": "markdown",
      "source": [
        "# **WEEK 4**"
      ],
      "metadata": {
        "id": "fq408llpP9FL"
      }
    },
    {
      "cell_type": "markdown",
      "source": [
        "### Write a Python script to sort (ascending and descending) a dictionary by value"
      ],
      "metadata": {
        "id": "E0EXV0xlQEMa"
      }
    },
    {
      "cell_type": "code",
      "source": [
        "#RA2111003010298\n",
        "\n",
        "d={'a':1,'d':4,'b':2,'c':3}\n",
        "dl=list(d.items())\n",
        "print(dict(dl))\n",
        "dl.sort()\n",
        "print(\"Ascending order: \",dict(dl))\n",
        "dl.sort(reverse=True)\n",
        "print(\"Decending order: \",dict(dl))\n"
      ],
      "metadata": {
        "id": "IlzrtvHzwjmM",
        "colab": {
          "base_uri": "https://localhost:8080/"
        },
        "outputId": "47dbf23f-a09e-415e-9b17-a500e8e0f8a1"
      },
      "execution_count": null,
      "outputs": [
        {
          "output_type": "stream",
          "name": "stdout",
          "text": [
            "{'a': 1, 'd': 4, 'b': 2, 'c': 3}\n",
            "Ascending order:  {'a': 1, 'b': 2, 'c': 3, 'd': 4}\n",
            "Decending order:  {'d': 4, 'c': 3, 'b': 2, 'a': 1}\n"
          ]
        }
      ]
    },
    {
      "cell_type": "markdown",
      "source": [
        "### Write a Python Program to generate a temperature profile dictionary (values in range:30 to 100) for ten days randomly (from august 1 to august 31) and check whether august 10 data exist in a dictionary or not. (Key=date,value=temperate value)"
      ],
      "metadata": {
        "id": "PJBdKQCKQ8l6"
      }
    },
    {
      "cell_type": "code",
      "source": [
        "#RA2111003010298\n",
        "\n",
        "import random\n",
        "tempProf = {}\n",
        "for i in range(11):\n",
        "    x = random.randrange(1,31)\n",
        "    y = random.randrange(30,100)\n",
        "    tempProf[x]=y\n",
        "print(\"Day\\t\\t Temperature\")\n",
        "for day,temp in tempProf.items():\n",
        "    print(\"August \",day,\"\\t\",temp)\n",
        "flag = 11 in tempProf\n",
        "if flag == False:\n",
        "    print(\"Does not exist\")\n",
        "else:\n",
        "    print('It exists')"
      ],
      "metadata": {
        "colab": {
          "base_uri": "https://localhost:8080/"
        },
        "id": "IIvuct5TQPGA",
        "outputId": "ba491fc3-6e43-4aab-df7b-c79a49457c86"
      },
      "execution_count": null,
      "outputs": [
        {
          "output_type": "stream",
          "name": "stdout",
          "text": [
            "Day\t\t Temperature\n",
            "August  4 \t 45\n",
            "August  14 \t 46\n",
            "August  29 \t 50\n",
            "August  21 \t 39\n",
            "August  18 \t 88\n",
            "August  25 \t 38\n",
            "August  13 \t 75\n",
            "August  12 \t 42\n",
            "August  8 \t 66\n",
            "August  6 \t 78\n",
            "Does not exist\n"
          ]
        }
      ]
    },
    {
      "cell_type": "markdown",
      "source": [
        "### In program 2, find the count of temperature 30,40 in the dictionary."
      ],
      "metadata": {
        "id": "JoDFuAFUQ9W5"
      }
    },
    {
      "cell_type": "code",
      "source": [
        "#RA2111003010298\n",
        "\n",
        "import random\n",
        "tempProf = {}\n",
        "c1=0\n",
        "c2=0\n",
        "for i in range(11):\n",
        "    x = random.randrange(1,31)\n",
        "    y = random.randrange(30,100)\n",
        "    tempProf[x]=y\n",
        "print(\"Day\\t\\t Temperature\")\n",
        "for day,temp in tempProf.items():\n",
        "    print(\"August \",day,\"\\t\",temp)\n",
        "for a in tempProf:\n",
        "    if tempProf[a]==30:\n",
        "        c1+=1\n",
        "    if tempProf[a]==40:\n",
        "        c2+=1\n",
        "print(\"count of temperature 30: \",c1)\n",
        "print(\"count of temperature 40: \",c2)"
      ],
      "metadata": {
        "colab": {
          "base_uri": "https://localhost:8080/"
        },
        "id": "P6FTHmxlQT4v",
        "outputId": "5ab4da26-8b15-48be-cd03-a657c87b596b"
      },
      "execution_count": null,
      "outputs": [
        {
          "output_type": "stream",
          "name": "stdout",
          "text": [
            "Day\t\t Temperature\n",
            "August  17 \t 61\n",
            "August  22 \t 98\n",
            "August  3 \t 36\n",
            "August  8 \t 58\n",
            "August  1 \t 32\n",
            "August  30 \t 89\n",
            "August  5 \t 91\n",
            "August  15 \t 41\n",
            "count of temperature 30:  0\n",
            "count of temperature 40:  0\n"
          ]
        }
      ]
    },
    {
      "cell_type": "markdown",
      "source": [
        "### Repeat the program 2 for July month and write a python program to concatenate the two dictionaries into one dictionary named July_aug_temp."
      ],
      "metadata": {
        "id": "KvOyOB4bQ-Bh"
      }
    },
    {
      "cell_type": "code",
      "source": [
        "#RA2111003010298\n",
        "\n",
        "import random\n",
        "from collections import defaultdict\n",
        "tempProf_july = {}\n",
        "tempProf_aug = {}\n",
        "july_aug_temp = defaultdict(list)\n",
        "for i in range(0,10):\n",
        "    x = random.randint(1,31)\n",
        "    y = random.randint(30,100)\n",
        "    s1=\"July \"+str(x)\n",
        "    tempProf_july[s1]=y\n",
        "    m = random.randint(1,31)\n",
        "    n = random.randint(30,100)\n",
        "    s2=\"August \"+str(m)\n",
        "    tempProf_aug[s2]=n\n",
        "for tempProf in (tempProf_july, tempProf_aug):\n",
        "    for key, value in tempProf.items():\n",
        "        july_aug_temp[key].append(value)\n",
        "print(\"Day\\t\\t Temperature\")\n",
        "for day,temp in july_aug_temp.items():\n",
        "    print(day,\" \\t\",temp[0])"
      ],
      "metadata": {
        "colab": {
          "base_uri": "https://localhost:8080/"
        },
        "id": "dB_pNRqmQWWH",
        "outputId": "86621c27-0d98-42dc-cc28-d4a178394c54"
      },
      "execution_count": null,
      "outputs": [
        {
          "output_type": "stream",
          "name": "stdout",
          "text": [
            "Day\t\t Temperature\n",
            "July 2  \t 74\n",
            "July 7  \t 94\n",
            "July 24  \t 47\n",
            "July 11  \t 65\n",
            "July 20  \t 38\n",
            "July 1  \t 69\n",
            "July 16  \t 83\n",
            "July 17  \t 69\n",
            "August 15  \t 43\n",
            "August 26  \t 64\n",
            "August 23  \t 94\n",
            "August 25  \t 30\n",
            "August 30  \t 60\n",
            "August 24  \t 32\n",
            "August 13  \t 33\n",
            "August 12  \t 64\n"
          ]
        }
      ]
    },
    {
      "cell_type": "markdown",
      "source": [
        "### Write a Python Program to multiply all the items in the dictionary “July_aug_temp” which is generated in program 4 and find average temperate for the two months."
      ],
      "metadata": {
        "id": "nBM0BR1zQ-n5"
      }
    },
    {
      "cell_type": "code",
      "source": [
        "#RA2111003010298\n",
        "\n",
        "import random\n",
        "from collections import defaultdict\n",
        "tempProf_july = {}\n",
        "tempProf_aug = {}\n",
        "july_aug_temp = defaultdict(list)\n",
        "sumTemp = 0\n",
        "count = 0\n",
        "for i in range(0,10):\n",
        "    x = random.randint(1,31)\n",
        "    y = random.randint(30,100)\n",
        "    s1=\"July \"+str(x)\n",
        "    tempProf_july[s1]=y\n",
        "    m = random.randint(1,31)\n",
        "    n = random.randint(30,100)\n",
        "    s2=\"August \"+str(m)\n",
        "    tempProf_aug[s2]=n\n",
        "for tempProf in (tempProf_july, tempProf_aug):\n",
        "    for key, value in tempProf.items():\n",
        "        july_aug_temp[key].append(value)\n",
        "print(\"Day\\t\\t Temperature\")\n",
        "for day,temp in july_aug_temp.items():\n",
        "    print(day,\" \\t\",temp[0])\n",
        "for days in july_aug_temp:\n",
        "    sumTemp+=july_aug_temp[days][0]\n",
        "    count+=1\n",
        "    avg=float(sumTemp)/count\n",
        "print(\"The average temperature of july and august is %.2f\"%avg)"
      ],
      "metadata": {
        "colab": {
          "base_uri": "https://localhost:8080/"
        },
        "id": "4wnLZGCWQY1B",
        "outputId": "f70976b6-7830-4cc7-c697-62b226172426"
      },
      "execution_count": null,
      "outputs": [
        {
          "output_type": "stream",
          "name": "stdout",
          "text": [
            "Day\t\t Temperature\n",
            "July 10  \t 92\n",
            "July 4  \t 69\n",
            "July 5  \t 95\n",
            "July 15  \t 42\n",
            "July 22  \t 86\n",
            "July 2  \t 35\n",
            "July 9  \t 53\n",
            "July 6  \t 92\n",
            "July 8  \t 60\n",
            "August 9  \t 62\n",
            "August 4  \t 83\n",
            "August 1  \t 95\n",
            "August 20  \t 52\n",
            "August 31  \t 53\n",
            "August 28  \t 62\n",
            "August 2  \t 84\n",
            "August 5  \t 74\n",
            "August 7  \t 89\n",
            "The average temperature of july and august is 71.00\n"
          ]
        }
      ]
    },
    {
      "cell_type": "markdown",
      "source": [
        "# **POST LAB**"
      ],
      "metadata": {
        "id": "3rpmzkuLQ_Tx"
      }
    },
    {
      "cell_type": "markdown",
      "source": [
        "### Write a python program, that repeatedly asks the user to enter product names and prices. Store all of them in a dictionary whose keys are product names and values are prices. And also write a code to search an item from the dictionary."
      ],
      "metadata": {
        "id": "whSS1JDoRBeJ"
      }
    },
    {
      "cell_type": "code",
      "source": [
        "#RA2111003010298\n",
        "\n",
        "d = {}\n",
        "ans = \"y\"\n",
        "while ans == \"y\" or ans == \"Y\" :\n",
        "    p_name = input(\"Enter the product name: \")\n",
        "    p_price = float(input(\"Enter product price: \"))\n",
        "    d[p_name] = p_price\n",
        "    ans = input(\"Do you want to enter more product names? (y/n): \")\n",
        "\n",
        "ans = \"y\"\n",
        "while ans == \"y\" or ans == \"Y\" :\n",
        "    p_name = input(\"Enter the product name to search: \")\n",
        "    print(\"Price:\", d.get(p_name, \"Product not found\"))\n",
        "    ans = input(\"Do you want to know price of more products? (y/n): \")"
      ],
      "metadata": {
        "colab": {
          "base_uri": "https://localhost:8080/"
        },
        "id": "AsiD1SxyQbTO",
        "outputId": "8f4ed128-2562-4832-ded2-a4d36b57e145"
      },
      "execution_count": null,
      "outputs": [
        {
          "name": "stdout",
          "output_type": "stream",
          "text": [
            "Enter the product name: milk\n",
            "Enter product price: 30\n",
            "Do you want to enter more product names? (y/n): y\n",
            "Enter the product name: egg\n",
            "Enter product price: 40\n",
            "Do you want to enter more product names? (y/n): n\n",
            "Enter the product name to search: egg\n",
            "Price: 40.0\n",
            "Do you want to know price of more products? (y/n): n\n"
          ]
        }
      ]
    },
    {
      "cell_type": "markdown",
      "source": [
        "### Write a Python program to get the maximum and minimum value in a dictionary."
      ],
      "metadata": {
        "id": "ARZLC4rjQ_2q"
      }
    },
    {
      "cell_type": "code",
      "source": [
        "#RA2111003010298\n",
        "\n",
        "my_dict = {'x':500, 'y':5874, 'z': 560}\n",
        "key_max = max(my_dict.keys(), key=(lambda k: my_dict[k]))\n",
        "key_min = min(my_dict.keys(), key=(lambda k: my_dict[k]))\n",
        "print('Maximum Value: ',my_dict[key_max])\n",
        "print('Minimum Value: ',my_dict[key_min])"
      ],
      "metadata": {
        "colab": {
          "base_uri": "https://localhost:8080/"
        },
        "id": "x7ghKKOpQe5U",
        "outputId": "44fa607f-bf0a-45c2-fb8d-e79becb82ca4"
      },
      "execution_count": null,
      "outputs": [
        {
          "output_type": "stream",
          "name": "stdout",
          "text": [
            "Maximum Value:  5874\n",
            "Minimum Value:  500\n"
          ]
        }
      ]
    }
  ]
}